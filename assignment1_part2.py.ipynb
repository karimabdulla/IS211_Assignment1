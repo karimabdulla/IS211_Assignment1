{
 "cells": [
  {
   "cell_type": "code",
   "execution_count": 26,
   "id": "7352ce7d",
   "metadata": {},
   "outputs": [
    {
     "name": "stdout",
     "output_type": "stream",
     "text": [
      "Love me written by Khalid Ali\n",
      "Do It written by Mo Hamid\n"
     ]
    }
   ],
   "source": [
    "class Book:\n",
    "  def __init__(self, author, title):\n",
    "    self.author = author\n",
    "    self.title = title\n",
    "\n",
    "  def display(self):\n",
    "    print(\"{} written by {}\".format(self.title, self.author))\n",
    "\n",
    "\n",
    "book1 = Book(\"Khalid Ali\", \"Love me\")\n",
    "book2 = Book(\"Mo Hamid\", \"Do It\")\n",
    "book1.display()\n",
    "book2.display()\n"
   ]
  },
  {
   "cell_type": "code",
   "execution_count": null,
   "id": "b7db40e0",
   "metadata": {},
   "outputs": [],
   "source": []
  }
 ],
 "metadata": {
  "kernelspec": {
   "display_name": "Python 3 (ipykernel)",
   "language": "python",
   "name": "python3"
  },
  "language_info": {
   "codemirror_mode": {
    "name": "ipython",
    "version": 3
   },
   "file_extension": ".py",
   "mimetype": "text/x-python",
   "name": "python",
   "nbconvert_exporter": "python",
   "pygments_lexer": "ipython3",
   "version": "3.11.4"
  }
 },
 "nbformat": 4,
 "nbformat_minor": 5
}
